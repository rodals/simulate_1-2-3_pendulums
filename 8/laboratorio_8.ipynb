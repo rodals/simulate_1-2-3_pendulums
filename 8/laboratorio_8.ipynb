{
 "cells": [
  {
   "cell_type": "code",
   "execution_count": 160,
   "id": "2ba37a19",
   "metadata": {},
   "outputs": [],
   "source": [
    "%matplotlib notebook\n",
    "import numpy as np\n",
    "import matplotlib\n",
    "import matplotlib.pyplot as plt\n",
    "import os\n",
    "import math\n",
    "x0=1\n"
   ]
  },
  {
   "cell_type": "code",
   "execution_count": 180,
   "id": "be9cb910",
   "metadata": {},
   "outputs": [],
   "source": [
    "# Modello di Ising tramite metropolis\n",
    "\n",
    "def energia(Jconst, nx, ny, spins):\n",
    "    if(isinstance(spins[0], np.ndarray)):\n",
    "        spins = np.concatenate(spins).flat\n",
    "    ene=0.\n",
    "    icount=0\n",
    "    for j in range(0, ny, 1):\n",
    "        for i in range(0, nx, 1):\n",
    "            pv_x,pv_y,pv_count = 0, 0, 0\n",
    "            if i<nx-1:\n",
    "                pv_x=i+1\n",
    "            else:\n",
    "                pv_x=0\n",
    "            pv_y=j\n",
    "            pv_count=pv_y*nx+pv_x\n",
    "            ene+=-0.5*Jconst*spins[icount]*spins[pv_count]\n",
    "            \n",
    "            if i>0:\n",
    "                pv_x=i-1\n",
    "            else:\n",
    "                pv_x=nx-1\n",
    "            pv_y=j\n",
    "            pv_count=pv_y*nx+pv_x\n",
    "            ene+=-0.5*Jconst*spins[icount]*spins[pv_count]\n",
    "            \n",
    "            if j<ny-1:\n",
    "                pv_y=j+1\n",
    "            else:\n",
    "                pv_y=0\n",
    "            pv_x=i\n",
    "            pv_count=pv_y*nx+pv_x\n",
    "            ene+=-0.5*Jconst*spins[icount]*spins[pv_count]\n",
    "            \n",
    "            if j>0:\n",
    "                pv_y=j-1\n",
    "            else:\n",
    "                pv_y=ny-1\n",
    "            pv_x=i\n",
    "            pv_count=pv_y*nx+pv_x\n",
    "            ene+=-0.5*Jconst*spins[icount]*spins[pv_count]\n",
    "            \n",
    "            icount+=1\n",
    "    return ene\n",
    "\n",
    "def numero_random( ):\n",
    "    a=16807\n",
    "    c=0\n",
    "    m=2147483647\n",
    "    global x0\n",
    "    x1=(a*x0+c)%m\n",
    "    r=float(x1)/float(m)\n",
    "    x0 = x1\n",
    "    return r\n",
    "\n",
    "def genera_configurazione(nx, ny, spins):\n",
    "    for j in range(0, ny, 1):\n",
    "        for i in range(0, nx, 1):\n",
    "            r =numero_random()\n",
    "            if (r<0.5):\n",
    "                spins[j][i]=-1\n",
    "            else:\n",
    "                spins[j][i]=1\n",
    "            \n",
    "    return spins"
   ]
  },
  {
   "cell_type": "code",
   "execution_count": 256,
   "id": "d7fca9d4",
   "metadata": {},
   "outputs": [],
   "source": [
    "def cambia_configurazione( Jconst, nx,  ny,  spins):\n",
    "    spins = np.concatenate(spins).flat\n",
    "    spins1=spins.copy()\n",
    "    \n",
    "    ene=0\n",
    "    \n",
    "    r=numero_random()\n",
    "    icount=math.floor(r*(nx*ny))\n",
    "    spins1[icount]*=-1\n",
    "    j=math.floor(icount/nx)\n",
    "    i=icount-j*nx\n",
    "    \n",
    "    \n",
    "    if(i<nx-1):\n",
    "        pv_x=i+1\n",
    "    else:\n",
    "        pv_x=0\n",
    "    \n",
    "    pv_y=j\n",
    "    pv_count=pv_y*nx+pv_x\n",
    "    ene+=-Jconst*spins1[icount]*spins1[pv_count]\n",
    "    ene-=-Jconst*spins[icount]*spins[pv_count]\n",
    "    \n",
    "    if (i>0):\n",
    "        pv_x=i-1\n",
    "    else:\n",
    "        pv_x=nx-1\n",
    "    \n",
    "    pv_y=j\n",
    "    pv_count=pv_y*nx+pv_x\n",
    "    ene+=-Jconst*spins1[icount]*spins1[pv_count]\n",
    "    ene-=-Jconst*spins[icount]*spins[pv_count]\n",
    "    \n",
    "    if (j<ny-1):\n",
    "        pv_y=j+1\n",
    "    else:\n",
    "        pv_y=0\n",
    "    pv_x=i\n",
    "    pv_count=pv_y*nx+pv_x\n",
    "    ene+=-Jconst*spins1[icount]*spins1[pv_count]\n",
    "    ene-=-Jconst*spins[icount]*spins[pv_count]\n",
    "    \n",
    "    if  j > 0 :\n",
    "        pv_y=j-1\n",
    "    else:\n",
    "        pv_y=ny-1\n",
    "    \n",
    "    pv_x=i\n",
    "    pv_count=pv_y*nx+pv_x\n",
    "    ene+=-Jconst*spins1[icount]*spins1[pv_count]\n",
    "    ene-=-Jconst*spins[icount]*spins[pv_count]\n",
    "    \n",
    "    return ene, np.array(spins1).reshape(nx, ny)\n",
    "    \n",
    "\n",
    "def magnetizzazione(nx, ny, spins):\n",
    "    icount=0\n",
    "    ma=0\n",
    "    spins =  np.concatenate(spins).flat\n",
    "    for j in range(0, ny):\n",
    "        for i in range(0, nx):\n",
    "            ma+=spins[icount]\n",
    "            icount+=1\n",
    "    return ma"
   ]
  },
  {
   "cell_type": "code",
   "execution_count": 257,
   "id": "a6d67e12",
   "metadata": {},
   "outputs": [],
   "source": [
    "def metropolis(spins, steps, nx, ny, J, kbT, energy):\n",
    "    spins1 = spins.copy()\n",
    "    d_spins = np.zeros(steps)\n",
    "    d_energy = np.zeros(steps)\n",
    "    for s in range(0, steps):\n",
    "        d_ene, spins1 = cambia_configurazione(J, nx, ny, spins)\n",
    "        if (d_ene >0)*(numero_random() < np.exp(-kbT * d_ene)):\n",
    "            spins = spin s1\n",
    "            energy += d_ene\n",
    "        elif d_ene <= 0 :\n",
    "            spins = spins1\n",
    "            energy += d_ene\n",
    "        d_energy[s] = energy\n",
    "        d_spins[s] = spins.sum()\n",
    "    return d_energy, d_spins, spins"
   ]
  },
  {
   "cell_type": "code",
   "execution_count": 264,
   "id": "e5bb072c",
   "metadata": {},
   "outputs": [],
   "source": [
    "nsteps = 10**8\n",
    "def main():\n",
    "    nx,ny = 50, 50 # 20, 20 # 50, 50\n",
    "    J, kbT = 1, 1 # kbT in [0, 3]\n",
    "    ene_ave=0\n",
    "    ene_var=0\n",
    "    ma_ave=0\n",
    "    ma_var=0\n",
    "    masq_ave=0\n",
    "    enesq_ave=0\n",
    "    \n",
    "    ratio,r = 0, 0\n",
    "    metodo = 1\n",
    "    \n",
    "    ene = np.zeros(nsteps)\n",
    "    ma = np.zeros(nsteps)\n",
    "    \n",
    "    spins = np.zeros((nx,ny), dtype = float)\n",
    "    spins1 = np.zeros((nx,ny), dtype = float)\n",
    "    \n",
    "    spins = genera_configurazione(nx, ny, spins)\n",
    "    dE, dSpins, spins = metropolis(spins, nsteps, nx, ny, J, kbT, energia(J, nx, ny, spins))\n",
    "    return dE, dSpins, nx, ny, spins\n",
    "de, dspi, nx, ny, spins = main()"
   ]
  },
  {
   "cell_type": "code",
   "execution_count": 1,
   "id": "089c63b7",
   "metadata": {},
   "outputs": [
    {
     "ename": "NameError",
     "evalue": "name 'plt' is not defined",
     "output_type": "error",
     "traceback": [
      "\u001b[0;31m---------------------------------------------------------------------------\u001b[0m",
      "\u001b[0;31mNameError\u001b[0m                                 Traceback (most recent call last)",
      "\u001b[0;32m/tmp/ipykernel_362845/2190894188.py\u001b[0m in \u001b[0;36m<module>\u001b[0;34m\u001b[0m\n\u001b[0;32m----> 1\u001b[0;31m \u001b[0mfig\u001b[0m\u001b[0;34m,\u001b[0m \u001b[0maxs\u001b[0m \u001b[0;34m=\u001b[0m \u001b[0mplt\u001b[0m\u001b[0;34m.\u001b[0m\u001b[0msubplots\u001b[0m\u001b[0;34m(\u001b[0m\u001b[0;36m1\u001b[0m\u001b[0;34m,\u001b[0m\u001b[0;36m2\u001b[0m\u001b[0;34m)\u001b[0m\u001b[0;34m\u001b[0m\u001b[0;34m\u001b[0m\u001b[0m\n\u001b[0m\u001b[1;32m      2\u001b[0m \u001b[0mt\u001b[0m \u001b[0;34m=\u001b[0m \u001b[0mnp\u001b[0m\u001b[0;34m.\u001b[0m\u001b[0mlinspace\u001b[0m\u001b[0;34m(\u001b[0m\u001b[0;36m0\u001b[0m\u001b[0;34m,\u001b[0m\u001b[0mnsteps\u001b[0m\u001b[0;34m,\u001b[0m \u001b[0mnsteps\u001b[0m\u001b[0;34m)\u001b[0m\u001b[0;34m\u001b[0m\u001b[0;34m\u001b[0m\u001b[0m\n\u001b[1;32m      3\u001b[0m \u001b[0mprint\u001b[0m\u001b[0;34m(\u001b[0m\u001b[0mspins\u001b[0m\u001b[0;34m)\u001b[0m\u001b[0;34m\u001b[0m\u001b[0;34m\u001b[0m\u001b[0m\n\u001b[1;32m      4\u001b[0m \u001b[0maxs\u001b[0m\u001b[0;34m[\u001b[0m\u001b[0;36m0\u001b[0m\u001b[0;34m]\u001b[0m\u001b[0;34m.\u001b[0m\u001b[0mplot\u001b[0m\u001b[0;34m(\u001b[0m\u001b[0mde\u001b[0m\u001b[0;34m/\u001b[0m\u001b[0;34m(\u001b[0m\u001b[0mnx\u001b[0m\u001b[0;34m*\u001b[0m\u001b[0mny\u001b[0m\u001b[0;34m)\u001b[0m\u001b[0;34m)\u001b[0m\u001b[0;34m\u001b[0m\u001b[0;34m\u001b[0m\u001b[0m\n\u001b[1;32m      5\u001b[0m \u001b[0maxs\u001b[0m\u001b[0;34m[\u001b[0m\u001b[0;36m1\u001b[0m\u001b[0;34m]\u001b[0m\u001b[0;34m.\u001b[0m\u001b[0mplot\u001b[0m\u001b[0;34m(\u001b[0m\u001b[0mdspi\u001b[0m\u001b[0;34m/\u001b[0m\u001b[0;34m(\u001b[0m\u001b[0mnx\u001b[0m\u001b[0;34m*\u001b[0m\u001b[0mny\u001b[0m\u001b[0;34m)\u001b[0m\u001b[0;34m)\u001b[0m\u001b[0;34m\u001b[0m\u001b[0;34m\u001b[0m\u001b[0m\n",
      "\u001b[0;31mNameError\u001b[0m: name 'plt' is not defined"
     ]
    }
   ],
   "source": [
    "fig, axs = plt.subplots(1,2)\n",
    "t = np.linspace(0,nsteps, nsteps)\n",
    "print(spins)\n",
    "axs[0].plot(de/(nx*ny))\n",
    "axs[1].plot(dspi/(nx*ny))\n",
    "plt.show()"
   ]
  },
  {
   "cell_type": "code",
   "execution_count": 266,
   "id": "5e9e3ed7",
   "metadata": {},
   "outputs": [
    {
     "data": {
      "text/plain": [
       "<matplotlib.image.AxesImage at 0x7f42035a0580>"
      ]
     },
     "execution_count": 266,
     "metadata": {},
     "output_type": "execute_result"
    }
   ],
   "source": [
    "axs[0].imshow(spins)"
   ]
  },
  {
   "cell_type": "code",
   "execution_count": 249,
   "id": "222d7138",
   "metadata": {},
   "outputs": [
    {
     "data": {
      "text/plain": [
       "1994.0"
      ]
     },
     "execution_count": 249,
     "metadata": {},
     "output_type": "execute_result"
    }
   ],
   "source": [
    "spins.sum()"
   ]
  },
  {
   "cell_type": "code",
   "execution_count": 250,
   "id": "e2d86404",
   "metadata": {},
   "outputs": [
    {
     "data": {
      "text/plain": [
       "0.7976"
      ]
     },
     "execution_count": 250,
     "metadata": {},
     "output_type": "execute_result"
    }
   ],
   "source": [
    "spins.sum()/2500"
   ]
  },
  {
   "cell_type": "code",
   "execution_count": null,
   "id": "c31e4c8f",
   "metadata": {},
   "outputs": [],
   "source": []
  }
 ],
 "metadata": {
  "kernelspec": {
   "display_name": "Python 3 (ipykernel)",
   "language": "python",
   "name": "python3"
  },
  "language_info": {
   "codemirror_mode": {
    "name": "ipython",
    "version": 3
   },
   "file_extension": ".py",
   "mimetype": "text/x-python",
   "name": "python",
   "nbconvert_exporter": "python",
   "pygments_lexer": "ipython3",
   "version": "3.9.7"
  }
 },
 "nbformat": 4,
 "nbformat_minor": 5
}
